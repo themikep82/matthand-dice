{
 "cells": [
  {
   "cell_type": "markdown",
   "metadata": {},
   "source": [
    "\n",
    "After a night out with some friends, they taught me a simple dice rolling game. The rules are as follows.\n",
    "\n",
    "The goal is to roll the highest cumulative score with 5 dice. However, you must keep a 4 and a 1 in your rolls to make your score count. Failing to roll and keep a 4 and a 1 means you score 0 points, similar to going bust in Blackjack.\n",
    "\n",
    "This means you'll finish, ideally, with 2 'qualifying' dice and 3 scoring dice. Since 6 is the max roll, the highest possible score is 18 (3 scoring dice x 6), meaning your final dice roll would be [6, 6, 6, 4, 1].\n",
    "\n",
    "Each round you roll all unkept dice and are required to keep a minumum of 1 die, which can be a score die or a qualifying die. You can keep more than 1 if you choose. That's the strategy of the game. Do you go for big scores? Or do you try to qualify ASAP to secure a score. It's risk/reward, cost/benefit.\n",
    "\n",
    "The veterans of the game kept their 4s and 1s early in order to qualify. I surmised that keeping qualifiers early robbed you of additional die rolls which eventually robbed you of high score potential, so I kept my 6s and rerolled my qualifiers. There was much hullabaloo. I won a bunch. Then I lost a bunch. We only played maybe two dozen games, a sample size far to small to tell if I'm a genius or an idiot, but I was inspired to find the answer, so I did this analysis to find out."
   ]
  },
  {
   "cell_type": "code",
   "execution_count": 924,
   "metadata": {
    "collapsed": true
   },
   "outputs": [],
   "source": [
    "from random import *\n",
    "import pandas as pd\n",
    "import numpy as np\n",
    "import matplotlib.pyplot as plt\n",
    "from numpy import *\n",
    "from sklearn import preprocessing\n",
    "%matplotlib inline\n",
    "DEBUG=0\n",
    "\n",
    "def roll_die(max):\n",
    "    return randint(1,max)\n",
    "\n",
    "#METRICS TO EXAMINE\n",
    "#win distribution vs number of players\n",
    "#correlation between total number of rolls and score\n",
    "#score frequency distribution\n",
    "#qualifying rate\n",
    "#mean, median, mode score\n",
    "#mean, median, mode qualifying score\n",
    "#mean/median aka skew"
   ]
  },
  {
   "cell_type": "markdown",
   "metadata": {},
   "source": [
    "Below is the code that defines the play behavior for each of the two gameplay strategies. I use the terms 'textbook' and 'basic' interchangeably in the code to refer to the normal, conservative playstyle that is considered the \"normal\" way to play. My new strategy I refer to as 'aggressive' or 'aggro' strategy.\n",
    "\n",
    "The celll below defines two functions: play_game_basic(n) and play_game_aggressive(n). When called, they will play the dice game n times and return the results in a pandas DataFrame. If you want to see how individual games are played and see the dice rolls and decisions are made, add a cell and set DEBUG=1, then call play_game_basic(1) or play_game_aggressive(1) and the results will be printed to the console."
   ]
  },
  {
   "cell_type": "code",
   "execution_count": 446,
   "metadata": {
    "collapsed": false
   },
   "outputs": [],
   "source": [
    "def play_game_basic(iterations):\n",
    "    \n",
    "    if DEBUG:\n",
    "        print('BASIC STRATS')\n",
    "        \n",
    "    data=[]\n",
    "    \n",
    "    for y in range (0, iterations):\n",
    "        #favor keeping qualifying rolls\n",
    "        keptDice=[]\n",
    "        isQualified=False\n",
    "        rollNum=0\n",
    "        totalDiceRolls=0\n",
    "\n",
    "        while len(keptDice)<5:\n",
    "\n",
    "            rolls=[]\n",
    "            rollNum+=1\n",
    "            dieKept=False\n",
    "            totalDiceRolls+=5-len(keptDice)\n",
    "\n",
    "            for x in range(0, 5 - len(keptDice)):\n",
    "\n",
    "                rolls.append(roll_die(6))\n",
    "                rolls.sort(reverse=True)\n",
    "\n",
    "            if DEBUG:\n",
    "                print('roll #' + str(rollNum))\n",
    "                print('dice ' + str(rolls))\n",
    "\n",
    "            if 4 in rolls and 4 not in keptDice:\n",
    "                keptDice.append(4)\n",
    "                dieKept=True\n",
    "\n",
    "            if 1 in rolls and 1 not in keptDice:\n",
    "                keptDice.append(1)\n",
    "                dieKept=True\n",
    "\n",
    "            if 4 in keptDice and 1 in keptDice:\n",
    "                isQualified=True\n",
    "\n",
    "            #keep one 6 in the first round regardless of qualification\n",
    "            if 6 in rolls and not isQualified and rollNum<2:\n",
    "                keptDice.append(6)\n",
    "                dieKept=True\n",
    "\n",
    "            #if qualified, keep all 5s and 6s\n",
    "            if isQualified and (5 in rolls or 6 in rolls):\n",
    "\n",
    "                for die in rolls:\n",
    "\n",
    "                    if die==6:\n",
    "                        keptDice.append(6)\n",
    "                        if len(keptDice)>5:\n",
    "                            break\n",
    "\n",
    "                    if die==5:\n",
    "                        keptDice.append(5)\n",
    "                        if len(keptDice)>5:\n",
    "                            break\n",
    "\n",
    "                dieKept=True\n",
    "\n",
    "            #if none of the above conditions are met, just keep the highest roll\n",
    "            if dieKept==False:\n",
    "                keptDice.append(max(rolls))\n",
    "\n",
    "            if DEBUG:\n",
    "                print('dice kept so far: ' + str(keptDice))\n",
    "\n",
    "        if isQualified:\n",
    "            totalScore = sum(keptDice) - 5\n",
    "        else:\n",
    "            totalScore = 0\n",
    "\n",
    "        if DEBUG:\n",
    "            print('Score: ' + str(totalScore))\n",
    "            print('Total Rolls: ' + str(totalDiceRolls))\n",
    "            \n",
    "        if isQualified:\n",
    "            qualInt=1\n",
    "        else:\n",
    "            qualInt=0\n",
    "\n",
    "        data.append({'die_1': keptDice[0],\n",
    "                    'die_2' : keptDice[1],\n",
    "                    'die_3' : keptDice[2],\n",
    "                    'die_4' : keptDice[3],\n",
    "                    'die_5' : keptDice[4],\n",
    "                    'score' : totalScore,\n",
    "                    'rolls' : totalDiceRolls,\n",
    "                    'round' : rollNum,\n",
    "                    'qualified' : qualInt})\n",
    "\n",
    "    return pd.DataFrame(data)\n",
    "\n",
    "def play_game_aggressive(iterations):\n",
    "  \n",
    "    if DEBUG:\n",
    "        print('AGGRO STRATS')\n",
    "        \n",
    "    data=[]\n",
    "    \n",
    "    for y in range (0, iterations):\n",
    "        #avoid keeping early qualifiers\n",
    "\n",
    "        keptDice=[]\n",
    "        isQualified=False\n",
    "        rollNum=0\n",
    "        totalDiceRolls=0\n",
    "\n",
    "        while len(keptDice)<5:\n",
    "\n",
    "            rolls=[]\n",
    "            rollNum+=1\n",
    "            dieKept=False\n",
    "            totalDiceRolls+=5-len(keptDice)\n",
    "\n",
    "            for x in range(0, 5 - len(keptDice)):\n",
    "\n",
    "                rolls.append(roll_die(6))\n",
    "                rolls.sort(reverse=True)\n",
    "\n",
    "            if DEBUG:\n",
    "                print('roll #' + str(rollNum))\n",
    "                print('dice ' + str(rolls))\n",
    "\n",
    "            #keep up to one 6 with no qualifiers\n",
    "            if 6 in rolls and keptDice.count(4)==0 and keptDice.count(1)==0:\n",
    "                \n",
    "                for die in rolls:\n",
    "\n",
    "                    if die==6:\n",
    "                        keptDice.append(6)\n",
    "                        dieKept=True\n",
    "                        if keptDice.count(6)>=1:\n",
    "                            break\n",
    "                            \n",
    "            #keep a second 6 if at least one qualifier\n",
    "            if 6 in rolls and (keptDice.count(4)==1 or keptDice.count(1)==1):\n",
    "              \n",
    "                for die in rolls:\n",
    "\n",
    "                    if die==6:\n",
    "                        keptDice.append(6)\n",
    "                        dieKept=True\n",
    "                        if keptDice.count(6)>=2:\n",
    "                            break\n",
    "                            \n",
    "            #look for a qualifier\n",
    "            if (4 in rolls or 1 in rolls) and not isQualified:\n",
    "                for die in rolls:\n",
    "                    \n",
    "                    if rollNum==1 and keptDice.count(6)==1:\n",
    "                        break\n",
    "\n",
    "                    if die in (1,4) and not keptDice.count(die)>0:\n",
    "                        keptDice.append(die)\n",
    "                        dieKept=True\n",
    "\n",
    "                        if keptDice.count(6)<=3:\n",
    "                            break   \n",
    "                        \n",
    "            if 4 in keptDice and 1 in keptDice:\n",
    "                isQualified=True          \n",
    "                \n",
    "            #if none of the above conditions are met, just keep the highest roll\n",
    "            if dieKept==False:\n",
    "                keptDice.append(max(rolls))\n",
    "\n",
    "            if DEBUG:\n",
    "                print('dice kept so far: ' + str(keptDice))\n",
    "\n",
    "        if isQualified:\n",
    "            totalScore = sum(keptDice) - 5\n",
    "        else:\n",
    "            totalScore = 0\n",
    "\n",
    "        if DEBUG:\n",
    "            print('Score: ' + str(totalScore))\n",
    "            print('Total Rolls: ' + str(totalDiceRolls))\n",
    "            \n",
    "        if isQualified:\n",
    "            qualInt=1\n",
    "        else:\n",
    "            qualInt=0\n",
    "\n",
    "        data.append({'die_1': keptDice[0],\n",
    "                    'die_2' : keptDice[1],\n",
    "                    'die_3' : keptDice[2],\n",
    "                    'die_4' : keptDice[3],\n",
    "                    'die_5' : keptDice[4],\n",
    "                    'score' : totalScore,\n",
    "                    'rolls' : totalDiceRolls,\n",
    "                    'round' : rollNum,\n",
    "                    'qualified' : qualInt})\n",
    "\n",
    "    return pd.DataFrame(data)\n"
   ]
  },
  {
   "cell_type": "code",
   "execution_count": 693,
   "metadata": {
    "collapsed": false
   },
   "outputs": [],
   "source": [
    "#simulate 10,000 games with each strategy\n",
    "aggro_df=play_game_aggressive(10000)\n",
    "basic_df=play_game_basic(10000)"
   ]
  },
  {
   "cell_type": "markdown",
   "metadata": {
    "collapsed": false
   },
   "source": [
    "Now that we've simulated a ton of games played, let's take a look at some basic statistics about the two playstyles."
   ]
  },
  {
   "cell_type": "code",
   "execution_count": 853,
   "metadata": {
    "collapsed": false,
    "scrolled": false
   },
   "outputs": [
    {
     "name": "stdout",
     "output_type": "stream",
     "text": [
      "Aggressive Strategy Qualifying Rate: 0.6124\n",
      "Textbook Strategy Qualifying Rate: 0.8049\n",
      "\n",
      "Aggressive Strategy Mean Score: 8.9351\n",
      "Textbook Strategy Mean Score: 11.6241\n",
      "\n",
      "Aggressive Strategy Median Score: 12.0\n",
      "Textbook Strategy Median Score: 14.0\n",
      "\n",
      "Aggressive Strategy Mean Over Median: 0.7445916666666667\n",
      "Textbook Strategy Mean Over Median: 0.8302928571428572\n",
      "\n",
      "Aggressive Strategy Mean Score When Qualified: 14.590300457217506\n",
      "Textbook Strategy Mean Score When Qualified: 14.441669772642564\n",
      "\n",
      "Aggressive Strategy Median Score When Qualified: 15.0\n",
      "Textbook Strategy Median Score When Qualified: 15.0\n",
      "\n",
      "Aggressive Strategy Mean over Median Score When Qualified: 0.9726866971478337\n",
      "Textbook Strategy Mean over Median Score When Qualified: 0.9627779848428376\n",
      "\n",
      "Aggressive Strategy Perfect 18 Score Rate: 0.0805\n",
      "Textbook Strategy Perfect 18 Score Rate: 0.0531\n",
      "\n",
      "Aggressive Strategy >12 Rate: 0.4969\n",
      "Textbook Strategy >12 Rate: 0.6386\n",
      "\n"
     ]
    }
   ],
   "source": [
    "print('Aggressive Strategy Qualifying Rate: %s' % str(aggro_df['qualified'].sum()/len(aggro_df)))\n",
    "print('Textbook Strategy Qualifying Rate: %s\\n' % str(basic_df['qualified'].sum()/len(basic_df)))\n",
    "\n",
    "print('Aggressive Strategy Mean Score: %s' % str(aggro_df['score'].mean()))\n",
    "print('Textbook Strategy Mean Score: %s\\n' % str(basic_df['score'].mean()))\n",
    "\n",
    "print('Aggressive Strategy Median Score: %s' % str(aggro_df['score'].median()))\n",
    "print('Textbook Strategy Median Score: %s\\n' % str(basic_df['score'].median()))\n",
    "\n",
    "print('Aggressive Strategy Mean Over Median: %s' % str((aggro_df['score'].mean()/aggro_df['score'].median())))\n",
    "print('Textbook Strategy Mean Over Median: %s\\n' % str((basic_df['score'].mean()/basic_df['score'].median())))\n",
    "\n",
    "print('Aggressive Strategy Mean Score When Qualified: %s' % str(aggro_df[aggro_df.qualified==1]['score'].mean()))\n",
    "print('Textbook Strategy Mean Score When Qualified: %s\\n' % str(basic_df[basic_df.qualified==1]['score'].mean()))\n",
    "\n",
    "print('Aggressive Strategy Median Score When Qualified: %s' % str(aggro_df[aggro_df.qualified==1]['score'].median()))\n",
    "print('Textbook Strategy Median Score When Qualified: %s\\n' % str(basic_df[basic_df.qualified==1]['score'].median()))\n",
    "\n",
    "print('Aggressive Strategy Mean over Median Score When Qualified: %s' % str(aggro_df[aggro_df.qualified==1]['score'].mean()/aggro_df[aggro_df.qualified==1]['score'].median()))\n",
    "print('Textbook Strategy Mean over Median Score When Qualified: %s\\n' % str(basic_df[basic_df.qualified==1]['score'].mean()/basic_df[basic_df.qualified==1]['score'].median()))\n",
    "\n",
    "print('Aggressive Strategy Perfect 18 Score Rate: %s' % str(len(aggro_df[aggro_df.score==18])/len(aggro_df)))\n",
    "print('Textbook Strategy Perfect 18 Score Rate: %s\\n' % str(len(basic_df[basic_df.score==18])/len(basic_df)))\n",
    "\n",
    "print('Aggressive Strategy >12 Rate: %s' % str(len(aggro_df[aggro_df.score>12])/len(aggro_df)))\n",
    "print('Textbook Strategy >12 Rate: %s\\n' % str(len(basic_df[basic_df.score>12])/len(basic_df)))"
   ]
  },
  {
   "cell_type": "markdown",
   "metadata": {},
   "source": [
    "At first glance, things don't look too promising. The aggressive strategy qualifies significantly less frequently, as expected. But what did we gain in exchange for the 20% drop in qualifying? Not much, it appears. Mean and median scores are significantly lower, skewed heavily by a much larger quantity non-qualifying zero scores.\n",
    "\n",
    "Even when qualified, the distributions of the two strategies are similarly skewed, but the aggressive strategy is skewed slightly more right towards the higher scores, but not by much.\n",
    "\n",
    "The aggressive strategy does result in a roughly 50% greater chance to score a perfect 18.\n",
    "\n",
    "Is this significant? How does it perform in real matches? Is there a number of opponents where rolling a perfect 18 is the best way to win?\n",
    "\n",
    "My hypothesis is that there is an inflection point of number of opponents where the aggressive strategy begins to outperform"
   ]
  },
  {
   "cell_type": "code",
   "execution_count": 885,
   "metadata": {
    "collapsed": false,
    "scrolled": false
   },
   "outputs": [
    {
     "data": {
      "text/plain": [
       "(0, 4000)"
      ]
     },
     "execution_count": 885,
     "metadata": {},
     "output_type": "execute_result"
    },
    {
     "data": {
      "image/png": "[encoded data removed]",
      "text/plain": [
       "<matplotlib.figure.Figure at 0x7fc0b91bb710>"
      ]
     },
     "metadata": {},
     "output_type": "display_data"
    }
   ],
   "source": [
    "bins=[0,1,6,7,8,9,10,11,12,13,14,15,16,17,18,19]\n",
    "\n",
    "data=[aggro_df['score'], basic_df['score']]\n",
    "colors=['red','blue']\n",
    "labels=['aggressive', 'textbook']\n",
    "\n",
    "fig, ax = plt.subplots(figsize=(20, 5))\n",
    "\n",
    "\n",
    "\n",
    "ax.hist(data, bins, histtype='bar', color=color, label=labels, stacked=False)\n",
    "\n",
    "ax.legend(prop={'size': 15})\n",
    "\n",
    "plt.xlabel('score')\n",
    "plt.ylabel('occurences')\n",
    "plt.title('Sum of Occurances of Scores')\n",
    "plt.ylim([0,4000])"
   ]
  },
  {
   "cell_type": "markdown",
   "metadata": {},
   "source": [
    "The significant difference of non-qualifying scores are easy to see. Interestingly, the aggressive strategy seems to more evenly distribute scores between 12-18, and even outperforms the textbook strategy as a whole on the number of times a perfect 18 was scored."
   ]
  },
  {
   "cell_type": "code",
   "execution_count": 893,
   "metadata": {
    "collapsed": false,
    "scrolled": true
   },
   "outputs": [
    {
     "data": {
      "text/plain": [
       "<matplotlib.text.Text at 0x7fc0b75f6a20>"
      ]
     },
     "execution_count": 893,
     "metadata": {},
     "output_type": "execute_result"
    },
    {
     "data": {
      "image/png": "[encoded data removed]",
      "text/plain": [
       "<matplotlib.figure.Figure at 0x7fc0b91f1320>"
      ]
     },
     "metadata": {},
     "output_type": "display_data"
    }
   ],
   "source": [
    "bins=[0,1,6,7,8,9,10,11,12,13,14,15,16,17,18,19]\n",
    "\n",
    "chart_data=[aggro_df[aggro_df.qualified==1]['score'], \n",
    "            basic_df[basic_df.qualified==1]['score']]\n",
    "\n",
    "colors=['red','blue']\n",
    "labels=['aggressive', 'textbook']\n",
    "\n",
    "fig, ax = plt.subplots(figsize=(20, 5))\n",
    "\n",
    "ax.hist(chart_data, bins, histtype='bar', color=color, label=labels, stacked=False, normed=True)\n",
    "\n",
    "ax.legend(prop={'size': 20})\n",
    "\n",
    "ax.legend(loc = 'upper left')\n",
    "\n",
    "plt.xlabel('score')\n",
    "plt.ylabel('% occurences')\n",
    "plt.title('Frequency Distribution of Score')\n",
    "#plt.ylim([0,4000])"
   ]
  },
  {
   "cell_type": "markdown",
   "metadata": {},
   "source": [
    "Here's a look at the frequency distribution of the rate of occurance for each score when qualified. Textbook strategy scores slightly more 16s and 17s, but the aggressive strategy scores 18s at more than double the rate when qualified. How does this perform against opponents?"
   ]
  },
  {
   "cell_type": "markdown",
   "metadata": {},
   "source": [
    "The cell below defines the Player() class, which will be an object that represents a Player in a game of dice with up to N players. Each instance of this object will contain its gameplay strategy, number of games it has won, number of games it has played, etc. If instantiated with a 0 passed in, it will play textbook strategies, while any non-zero value will instruct it to play aggressively.\n",
    "\n",
    "Near the bottom of the class, we do some operator overloading so that Python list sorting will work on these objects. Operater overloading is a cool trick where you can define the behavior of an object when it is used in Boolean expressions like '==', '<' or '>'. If you think of the expression \"if x==1:\" as a function call of __eq__(x, 1) that returns True if the two parameters are equal, you can get a sense of how operator overloading works. It's a very powerful tool that will let you use your custom objects in native Python functions, tools and keywords."
   ]
  },
  {
   "cell_type": "code",
   "execution_count": 871,
   "metadata": {
    "collapsed": false
   },
   "outputs": [],
   "source": [
    "#Player() class for simulating games and storing head-to-head game results\n",
    "\n",
    "class Player:\n",
    "    \n",
    "    def __init__(self, strategy):\n",
    "        #pass in strategy type for constructor. 0=textbook strategy, non-zero for aggressive strategy\n",
    "        if strategy:\n",
    "            self.strat='AGGRO'\n",
    "        else:\n",
    "            self.strat='BASIC'\n",
    "            \n",
    "        self.games_played=0\n",
    "        self.wins=0\n",
    "            \n",
    "    def play_game(self, new_game):\n",
    "        \n",
    "        if self.strat=='AGGRO':\n",
    "            self.score=int(play_game_aggressive(1)['score'])\n",
    "            \n",
    "        elif self.strat=='BASIC':\n",
    "            self.score=int(play_game_basic(1)['score'])\n",
    "        \n",
    "        else:\n",
    "            raise Exception('unknown game strategy')\n",
    "            \n",
    "        if new_game:\n",
    "            self.games_played+=1\n",
    "            \n",
    "    def set_winner(self):\n",
    "        self.wins+=1\n",
    "        \n",
    "    def get_score(self):\n",
    "        return self.score\n",
    "    \n",
    "    def get_games_played(self):\n",
    "        return self.games_played\n",
    "    \n",
    "    def get_total_wins(self):\n",
    "        return self.wins\n",
    "    \n",
    "    def get_strat(self):\n",
    "        return self.strat\n",
    "    \n",
    "    #some operater overloading to help with Player() object list sorting\n",
    "    def __lt__(self, player2):\n",
    "        \n",
    "        if self.get_score() < player2.get_score():\n",
    "            return True\n",
    "        else:\n",
    "            return False\n",
    "        \n",
    "    def __gt__(self, player2):\n",
    "        \n",
    "        if self.get_score() > player2.get_score():\n",
    "            return True\n",
    "        else:\n",
    "            return False\n",
    "        \n",
    "    def __eq__(self, player2):\n",
    "        \n",
    "        if self.get_score()==player2.get_score():\n",
    "            return True\n",
    "        else:\n",
    "            return False"
   ]
  },
  {
   "cell_type": "markdown",
   "metadata": {},
   "source": [
    "The cell below has two globals to set, N_MAX_OPPONENTS and N_GAME_ROUNDS. It will simulate N_GAME_ROUNDS of games and record winners for each number of opponents from 1 to N_MAX_OPPONENTS. \n",
    "\n",
    "The O() on this is pretty ugly, since there's some recursion when attempting to break ties, which occurs nearly 100% of the time with greater than 40 players. It is probably some third-degree polynomial along the lines of O(n + n^2 + n(tie_probality)^2). Use large numbers at your own risk.\n",
    "\n",
    "The code will produce two dataframes:\n",
    "\n",
    "    results_df contains the performance of the players\n",
    "    scores_df contains the winning score data relative to the number of opponents\n",
    "    \n",
    "Player0 will always be the aggressive player. Player1 will be the control textbook player. In addition, we calculate the \"nominal win rate\", which is defined as 1 / (1 + n_opponents) and is the expected win rate if all players have the same strategy and luck and their wins are completely uniformly distributed. It's one of the benchmarks we'll test against. I'm doing this instead of checking against the control player because the win distribution is zero sum, meaning if PlayerN gets lucky and wins a disproportionately high number of games, it will reduce the number of wins in the rest of the population, control player included."
   ]
  },
  {
   "cell_type": "code",
   "execution_count": null,
   "metadata": {
    "collapsed": false
   },
   "outputs": [],
   "source": [
    "N_MAX_OPPONENTS=40\n",
    "N_GAME_ROUNDS=1000\n",
    "\n",
    "results = [] #container for results\n",
    "\n",
    "winning_scores = [] #container for score analysis\n",
    "\n",
    "for opponents in range (1, N_MAX_OPPONENTS + 1):\n",
    "    \n",
    "    #init score dict\n",
    "    score_counts = {'num_opponents'  : opponents,\n",
    "                    '0'              : 0,\n",
    "                    '3'              : 0,\n",
    "                    '4'              : 0,\n",
    "                    '5'              : 0,\n",
    "                    '6'              : 0,\n",
    "                    '7'              : 0,\n",
    "                    '8'              : 0,\n",
    "                    '9'              : 0,\n",
    "                    '10'             : 0,\n",
    "                    '11'             : 0,\n",
    "                    '12'             : 0,\n",
    "                    '13'             : 0,\n",
    "                    '14'             : 0,\n",
    "                    '15'             : 0,\n",
    "                    '16'             : 0,\n",
    "                    '17'             : 0,\n",
    "                    '18'             : 0}\n",
    " \n",
    "    player_list=[Player(0)] #first player plays aggressive\n",
    "    \n",
    "    for x in range(0, opponents):\n",
    "        player_list.append(Player(0)) #all subsequent players play textbook strats\n",
    "    \n",
    "    ties=0\n",
    "\n",
    "    for game_round in range (1, N_GAME_ROUNDS + 1):\n",
    "    \n",
    "        for player in player_list:\n",
    "            \n",
    "            player.play_game(1) #play a new game. The 1 tells the object to increment the games_played counter\n",
    "                       \n",
    "        player_list.sort(reverse=True)\n",
    "        \n",
    "        #if only one max value (i.e. winner), then award the winner\n",
    "        if player_list.count(max(player_list))==1:\n",
    "            max(player_list).set_winner()\n",
    "            score_counts[str(max(player_list).get_score())]+=1\n",
    "           \n",
    "        \n",
    "        else:\n",
    "            ties+=1\n",
    "\n",
    "            #create a list copy to whittle down tied players\n",
    "            player_list_copy=[]\n",
    "            player_list_copy=[tied_player for tied_player in player_list if tied_player==max(player_list)]\n",
    "            \n",
    "\n",
    "            tieBreakRound=1\n",
    "            \n",
    "            #while the count of max scores is greater than 1, there's still a tie\n",
    "            while player_list_copy.count(player_list_copy[0])>1:\n",
    "                                                \n",
    "                for tied_player in player_list_copy:\n",
    "                    \n",
    "                    tied_player.play_game(0) #play a game, but don't count the tiebreaker round as a new game\n",
    "                    \n",
    "                player_list_copy=[tied_player for tied_player in player_list_copy if tied_player==max(player_list_copy)]\n",
    "                tieBreakRound+=1\n",
    "                \n",
    "            player_list_copy[0].set_winner()\n",
    "            score_counts[str(player_list_copy[0].get_score())]+=1            \n",
    "\n",
    "   \n",
    "    results.append({'num_opponents' : opponents,\n",
    "                    'games_played'  : player_list[0].get_games_played(),\n",
    "                    'wins'          : player_list[0].get_total_wins(),\n",
    "                    'control_wins'  : player_list[1].get_total_wins(),\n",
    "                    'ties'          : ties})\n",
    "    \n",
    "    winning_scores.append(score_counts)\n",
    "   \n",
    "results_df=pd.DataFrame(results)\n",
    "\n",
    "results_df['nominal_win_rate']=(1 / (results_df['num_opponents'] + 1))\n",
    "results_df['actual_win_rate']=(results_df['wins']/results_df['games_played'])\n",
    "results_df['win_ex_delta']=results_df['actual_win_rate']-results_df['nominal_win_rate']\n",
    "\n",
    "scores_df=pd.DataFrame(winning_scores)\n"
   ]
  },
  {
   "cell_type": "code",
   "execution_count": 939,
   "metadata": {
    "collapsed": false,
    "scrolled": false
   },
   "outputs": [
    {
     "data": {
      "text/plain": [
       "(0, 40)"
      ]
     },
     "execution_count": 939,
     "metadata": {},
     "output_type": "execute_result"
    },
    {
     "data": {
      "image/png": "[encoded data removed]",
      "text/plain": [
       "<matplotlib.figure.Figure at 0x7fc0b8d8c240>"
      ]
     },
     "metadata": {},
     "output_type": "display_data"
    }
   ],
   "source": [
    "fig, ax = plt.subplots(figsize=(20, 10))\n",
    "ax.scatter(results_df['num_opponents'], results_df['actual_win_rate'], s=50, c='r', marker='x', label='Aggressive Win Rate')\n",
    "ax.scatter(results_df['num_opponents'], results_df['nominal_win_rate'], s=10, c='k', marker='.', label='Nominal Win Rate')\n",
    "plt.xlabel('opponents')\n",
    "plt.ylabel('win rate')\n",
    "\n",
    "ax.legend()\n",
    "\n",
    "\n",
    "plt.ylim([.01,.55])\n",
    "plt.xlim([0, N_MAX_OPPONENTS])\n"
   ]
  },
  {
   "cell_type": "markdown",
   "metadata": {},
   "source": [
    "Surprisingly, the aggressive strategy performs similarly to the nominal win rate. I expected it to underperform against fewer opponents but excel against larger groups. It does seem to periodically beat the nominal win rate, but it's unclear if that is because of the strategy working well against some pattern of opponenent numbers, or if it simply variance in the data due to N=1000. I'll need to retest with larger number of games played."
   ]
  },
  {
   "cell_type": "code",
   "execution_count": 937,
   "metadata": {
    "collapsed": false,
    "scrolled": false
   },
   "outputs": [
    {
     "data": {
      "text/plain": [
       "(0, 40)"
      ]
     },
     "execution_count": 937,
     "metadata": {},
     "output_type": "execute_result"
    },
    {
     "data": {
      "image/png": "[encoded data removed]",
      "text/plain": [
       "<matplotlib.figure.Figure at 0x7fc0b85a24a8>"
      ]
     },
     "metadata": {},
     "output_type": "display_data"
    }
   ],
   "source": [
    "\n",
    "fig, ax = plt.subplots(figsize=(20, 10))\n",
    "ax.scatter(results_df['num_opponents'], results_df['actual_win_rate'], s=50, c='r', marker='x', label='Aggressive Win Rate')\n",
    "ax.scatter(results_df['num_opponents'], (results_df['control_wins']/results_df['games_played']), s=50, c='b', marker='x', label='Control Textbook Win Rate')\n",
    "plt.xlabel('opponents')\n",
    "plt.ylabel('win rate')\n",
    "plt.title('Textbook Control Win Rate')\n",
    "\n",
    "ax.legend()\n",
    "\n",
    "plt.ylim([.01,.55])\n",
    "plt.xlim([0, N_MAX_OPPONENTS])"
   ]
  },
  {
   "cell_type": "markdown",
   "metadata": {},
   "source": [
    "Here we see textbook vs aggressive win rates with respect to number of opponents. Pretty close."
   ]
  },
  {
   "cell_type": "code",
   "execution_count": 938,
   "metadata": {
    "collapsed": false
   },
   "outputs": [
    {
     "data": {
      "text/plain": [
       "(0, 40)"
      ]
     },
     "execution_count": 938,
     "metadata": {},
     "output_type": "execute_result"
    },
    {
     "data": {
      "image/png": "[encoded data removed]",
      "text/plain": [
       "<matplotlib.figure.Figure at 0x7fc0b8dc9470>"
      ]
     },
     "metadata": {},
     "output_type": "display_data"
    }
   ],
   "source": [
    "plt.subplots(figsize=(20, 10))\n",
    "\n",
    "plt.scatter(scores_df['num_opponents'], scores_df['18']/ N_GAME_ROUNDS, marker='x', s=50)\n",
    "plt.scatter(scores_df['num_opponents'], scores_df['17']/ N_GAME_ROUNDS, marker='o', s=50)\n",
    "plt.scatter(scores_df['num_opponents'], scores_df['16']/ N_GAME_ROUNDS, marker='*', s=50)\n",
    "plt.scatter(scores_df['num_opponents'], scores_df['15']/ N_GAME_ROUNDS, marker='^', s=50)\n",
    "\n",
    "plt.xlim([0,N_MAX_OPPONENTS])"
   ]
  },
  {
   "cell_type": "markdown",
   "metadata": {
    "collapsed": true
   },
   "source": [
    "Here we can see the rate at which each score was the eventual winner of the game. Ties are included, so the data may be a little messy with N_MAX_OPPONENTS>25. It does illustrate how important perfect 18 score as opponents increase. \n",
    "\n",
    "The best conclusion I can draw is that the gains in win rate accrued by rolling a perfect 18 score more often are offset by the losses of not qualifying as frequently."
   ]
  }
 ],
 "metadata": {
  "anaconda-cloud": {},
  "kernelspec": {
   "display_name": "Python [Root]",
   "language": "python",
   "name": "Python [Root]"
  },
  "language_info": {
   "codemirror_mode": {
    "name": "ipython",
    "version": 3
   },
   "file_extension": ".py",
   "mimetype": "text/x-python",
   "name": "python",
   "nbconvert_exporter": "python",
   "pygments_lexer": "ipython3",
   "version": "3.5.2"
  }
 },
 "nbformat": 4,
 "nbformat_minor": 0
}
